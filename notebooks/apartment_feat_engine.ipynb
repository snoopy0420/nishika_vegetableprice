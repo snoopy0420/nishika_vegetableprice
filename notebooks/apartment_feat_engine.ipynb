{
 "cells": [
  {
   "cell_type": "code",
   "execution_count": 2,
   "metadata": {},
   "outputs": [
    {
     "name": "stderr",
     "output_type": "stream",
     "text": [
      "C:\\Users\\ishizuka\\Anaconda3\\lib\\importlib\\_bootstrap.py:219: RuntimeWarning: numpy.ufunc size changed, may indicate binary incompatibility. Expected 192 from C header, got 216 from PyObject\n",
      "  return f(*args, **kwds)\n",
      "C:\\Users\\ishizuka\\Anaconda3\\lib\\importlib\\_bootstrap.py:219: RuntimeWarning: numpy.ufunc size changed, may indicate binary incompatibility. Expected 192 from C header, got 216 from PyObject\n",
      "  return f(*args, **kwds)\n",
      "C:\\Users\\ishizuka\\Anaconda3\\lib\\importlib\\_bootstrap.py:219: RuntimeWarning: numpy.ufunc size changed, may indicate binary incompatibility. Expected 192 from C header, got 216 from PyObject\n",
      "  return f(*args, **kwds)\n"
     ]
    }
   ],
   "source": [
    "import glob\n",
    "from IPython.display import display\n",
    "import pandas as pd \n",
    "import numpy as np\n",
    "import matplotlib.pyplot as plt\n",
    "import japanize_matplotlib\n",
    "import seaborn as sns \n",
    "import re\n",
    "from sklearn.preprocessing import LabelEncoder"
   ]
  },
  {
   "cell_type": "code",
   "execution_count": 60,
   "metadata": {},
   "outputs": [
    {
     "name": "stderr",
     "output_type": "stream",
     "text": [
      "C:\\Users\\ishizuka\\Anaconda3\\lib\\site-packages\\IPython\\core\\interactiveshell.py:3147: DtypeWarning: Columns (10) have mixed types.Specify dtype option on import or set low_memory=False.\n",
      "  interactivity=interactivity, compiler=compiler, result=result)\n"
     ]
    }
   ],
   "source": [
    "plt.style.use('ggplot')\n",
    "pd.set_option('display.max_columns', 200)\n",
    "pd.set_option('display.max_rows', 200)\n",
    "\n",
    "path_in_trains = \"../data/raw/train/*.csv\"\n",
    "path_in_test = \"../data/raw/test.csv\"\n",
    "\n",
    "dfs = []\n",
    "for fpath in sorted(glob.glob(path_in_trains)):\n",
    "    _df = pd.read_csv(fpath)\n",
    "    dfs.append(_df)\n",
    "train_df = pd.concat(dfs)\n",
    "test_df = pd.read_csv(path_in_test)\n",
    "all_df = pd.concat([train_df, test_df]).reset_index(drop=True)"
   ]
  },
  {
   "cell_type": "code",
   "execution_count": 138,
   "metadata": {},
   "outputs": [],
   "source": [
    "def change_to_num(all_df):\n",
    "    \"\"\"数値変数に変換\n",
    "    \"\"\"\n",
    "\n",
    "    # 値の種類が1種類以下のものを除外　\n",
    "    drop_cols = all_df.nunique()[all_df.nunique() <= 1].index\n",
    "    all_df = all_df.drop(columns=drop_cols)\n",
    "\n",
    "    # 最寄駅：距離（分）\n",
    "    d = {\n",
    "        \"30分?60分\": 45,\n",
    "        \"1H?1H30\": 75,\n",
    "        \"2H?\": 120,\n",
    "        \"1H30?2H\": 105,\n",
    "    }\n",
    "    all_df[\"最寄駅：距離（分）\"] = all_df[\"最寄駅：距離（分）\"].replace(d)\n",
    "    all_df[\"最寄駅：距離（分）\"] = all_df[\"最寄駅：距離（分）\"].astype(float)\n",
    "\n",
    "    # 面積\n",
    "    all_df.loc[:, '面積（㎡）'] = all_df[\"面積（㎡）\"].replace({'2000㎡以上': \"2000\", \"5000㎡以上\": \"5000\"})\n",
    "    all_df.loc[:, '面積（㎡）'] = all_df[\"面積（㎡）\"].astype(int)\n",
    "    all_df.loc[:, \"面積_2000\"] = all_df[\"面積（㎡）\"] == 2000\n",
    "\n",
    "    # 建築年\n",
    "    d = {}\n",
    "    for val in all_df[\"建築年\"].value_counts().keys():\n",
    "        if \"平成\" in val:\n",
    "            _year = int(val.split(\"平成\")[1].split(\"年\")[0])\n",
    "            year = 1988 + _year\n",
    "        if \"昭和\" in val:\n",
    "            _year = int(val.split(\"昭和\")[1].split(\"年\")[0])\n",
    "            year = 1925 + _year\n",
    "        if \"令和\" in val:\n",
    "            _year = int(val.split(\"令和\")[1].split(\"年\")[0])\n",
    "            year = 2018 + _year\n",
    "        d[val] = year\n",
    "    d[\"戦前\"] = 1945\n",
    "    all_df.loc[:, \"建築年\"] = all_df[\"建築年\"].replace(d)\n",
    "\n",
    "    # 取引時点\n",
    "    all_df[\"取引年\"] = all_df[\"取引時点\"].apply(lambda x : int(x[:4]) if type(x)==str else np.nan)\n",
    "    all_df[\"取引四半期\"] = all_df[\"取引時点\"].apply(lambda x : int(x[6]) if type(x)==str else np.nan)\n",
    "    \n",
    "    all_df.loc[:, \"取引時点\"] = all_df[\"取引時点\"].apply(lambda x : re.sub('年第１四半期', '.00', x))\n",
    "    all_df.loc[:, \"取引時点\"] = all_df[\"取引時点\"].apply(lambda x : re.sub('年第２四半期', '.25', x))\n",
    "    all_df.loc[:, \"取引時点\"] = all_df[\"取引時点\"].apply(lambda x : re.sub('年第３四半期', '.50', x))\n",
    "    all_df.loc[:, \"取引時点\"] = all_df[\"取引時点\"].apply(lambda x : re.sub('年第４四半期', '.75', x))\n",
    "    all_df.loc[:, \"取引時点\"] = all_df[\"取引時点\"].apply(float)\n",
    "\n",
    "\n",
    "    return all_df"
   ]
  },
  {
   "cell_type": "code",
   "execution_count": 114,
   "metadata": {},
   "outputs": [],
   "source": [
    "def na_prep(all_df):\n",
    "    \"\"\"欠損値の処理\n",
    "    \"\"\"\n",
    "    \n",
    "    # 欠損値の数\n",
    "    all_df.loc[:, \"na_num\"] = all_df.isnull().sum(axis=1).values\n",
    "    \n",
    "    na_cols = list(all_df.isnull().sum()[all_df.isnull().sum()>0].index)\n",
    "    na_cols.remove(\"取引価格（総額）_log\")\n",
    "    # 欠損かどうかを表す二値変数\n",
    "    for col in na_cols:\n",
    "        all_df.loc[:, \"{}_isna\".format(col)] = all_df[col].isnull()\n",
    "    \n",
    "    # 欠損値の補完\n",
    "    na_obj_col = all_df[na_cols].dtypes[all_df[na_cols].dtypes==\"object\"].index\n",
    "    na_num_col = set(na_cols) - set(na_obj_col)\n",
    "    for col in na_obj_col:\n",
    "        all_df.loc[:,col] = all_df[col].fillna(all_df[col].mode()[0])\n",
    "    for col in na_num_col:\n",
    "        all_df.loc[:,col] = all_df[col].fillna(all_df[col].mean())\n",
    "        \n",
    "    return all_df"
   ]
  },
  {
   "cell_type": "code",
   "execution_count": 115,
   "metadata": {},
   "outputs": [],
   "source": [
    "def madori_prep(all_df):\n",
    "    \"\"\"「間取り」の処理\n",
    "    \"\"\"\n",
    "    all_df['L'] = all_df['間取り'].map(lambda x: 1 if 'Ｌ' in str(x) else 0)\n",
    "    all_df['D'] = all_df['間取り'].map(lambda x: 1 if 'Ｄ' in str(x) else 0)\n",
    "    all_df['K'] = all_df['間取り'].map(lambda x: 1 if 'Ｋ' in str(x) else 0)\n",
    "    all_df['S'] = all_df['間取り'].map(lambda x: 1 if 'Ｓ' in str(x) else 0)\n",
    "    all_df['R'] = all_df['間取り'].map(lambda x: 1 if 'Ｒ' in str(x) else 0)\n",
    "    all_df['OpenFloor'] = all_df['間取り'].map(lambda x: 1 if 'オープンフロア' in str(x) else 0)\n",
    "    all_df['RoomNum'] = all_df['間取り'].map(lambda x: re.sub(\"\\\\D\", \"\", str(x)))\n",
    "    all_df.loc[:,'RoomNum'] = all_df['RoomNum'].map(lambda x:int(x) if x!='' else 0)\n",
    "    all_df['TotalRoomNum'] = all_df[['L', 'D', 'K', 'S', 'R', 'RoomNum']].sum(axis=1)\n",
    "    all_df['RoomNumRatio'] = all_df['RoomNum'] / all_df['TotalRoomNum']   \n",
    "    \n",
    "    return all_df"
   ]
  },
  {
   "cell_type": "code",
   "execution_count": 139,
   "metadata": {},
   "outputs": [],
   "source": [
    "df = change_to_num(all_df)\n",
    "df = na_prep(df)\n",
    "df = madori_prep(df)"
   ]
  },
  {
   "cell_type": "code",
   "execution_count": null,
   "metadata": {},
   "outputs": [],
   "source": []
  },
  {
   "cell_type": "code",
   "execution_count": null,
   "metadata": {},
   "outputs": [],
   "source": []
  },
  {
   "cell_type": "code",
   "execution_count": null,
   "metadata": {},
   "outputs": [],
   "source": []
  },
  {
   "cell_type": "code",
   "execution_count": null,
   "metadata": {},
   "outputs": [],
   "source": []
  },
  {
   "cell_type": "code",
   "execution_count": 5,
   "metadata": {},
   "outputs": [],
   "source": [
    "def get_labelencoding(all_df):\n",
    "    cols = all_df.dtypes[all_df.dtypes==\"object\"].index\n",
    "    for col in cols:\n",
    "        all_df.loc[:, col] = all_df[col].fillna(\"NaN\")\n",
    "        le = LabelEncoder()\n",
    "        all_df.loc[:, col] = le.fit_transform(all_df[col])\n",
    "\n",
    "    return all_df"
   ]
  },
  {
   "cell_type": "code",
   "execution_count": null,
   "metadata": {},
   "outputs": [],
   "source": []
  },
  {
   "cell_type": "code",
   "execution_count": null,
   "metadata": {},
   "outputs": [],
   "source": []
  },
  {
   "cell_type": "code",
   "execution_count": null,
   "metadata": {},
   "outputs": [],
   "source": []
  },
  {
   "cell_type": "code",
   "execution_count": null,
   "metadata": {},
   "outputs": [],
   "source": [
    "###\n",
    "def preprocess(df, flag):\n",
    "    \n",
    "    # 用途\n",
    "    col = \"用途\"\n",
    "    d = {}\n",
    "    for val in df[col].value_counts().keys():\n",
    "        if \"、\" in val:\n",
    "            d[val] = val.split(\"、\")[0]\n",
    "    df[col] = df[col].replace(d)\n",
    "\n",
    "    return df"
   ]
  },
  {
   "cell_type": "code",
   "execution_count": null,
   "metadata": {},
   "outputs": [],
   "source": []
  },
  {
   "cell_type": "code",
   "execution_count": null,
   "metadata": {},
   "outputs": [],
   "source": []
  }
 ],
 "metadata": {
  "kernelspec": {
   "display_name": "Python 3 (ipykernel)",
   "language": "python",
   "name": "python3"
  },
  "language_info": {
   "codemirror_mode": {
    "name": "ipython",
    "version": 3
   },
   "file_extension": ".py",
   "mimetype": "text/x-python",
   "name": "python",
   "nbconvert_exporter": "python",
   "pygments_lexer": "ipython3",
   "version": "3.10.4"
  }
 },
 "nbformat": 4,
 "nbformat_minor": 4
}
